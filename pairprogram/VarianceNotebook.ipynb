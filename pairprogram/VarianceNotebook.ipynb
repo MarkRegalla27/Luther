{
 "cells": [
  {
   "cell_type": "code",
   "execution_count": 4,
   "metadata": {
    "collapsed": true
   },
   "outputs": [],
   "source": [
    "import math\n",
    "import numpy as np\n"
   ]
  },
  {
   "cell_type": "code",
   "execution_count": 16,
   "metadata": {
    "collapsed": false
   },
   "outputs": [],
   "source": [
    "\n",
    "List1 = [2,3,8,5,6]\n",
    "List2 = [5,8,3,4,6]\n",
    "#List3 = [4,9,7,1,2]\n"
   ]
  },
  {
   "cell_type": "code",
   "execution_count": 20,
   "metadata": {
    "collapsed": true
   },
   "outputs": [],
   "source": [
    "def mean(List):\n",
    "    mean1 = 0\n",
    "    for i in List:\n",
    "        mean1 = mean1 + i\n",
    "    mean1 = mean1 / len(List)\n",
    "    return mean1"
   ]
  },
  {
   "cell_type": "code",
   "execution_count": 21,
   "metadata": {
    "collapsed": false
   },
   "outputs": [
    {
     "name": "stdout",
     "output_type": "stream",
     "text": [
      "Manually calculated variance: 5\n",
      "CPU times: user 54 µs, sys: 25 µs, total: 79 µs\n",
      "Wall time: 61 µs\n"
     ]
    }
   ],
   "source": [
    "%%time\n",
    "\n",
    "mean1 = mean(List1)\n",
    "'''\n",
    "mean1 = 0\n",
    "for i in List1:\n",
    "    mean1 = mean1 + i\n",
    "mean1 = mean1 / len(List1)\n",
    "'''\n",
    "sum1 = 0\n",
    "for i in List1:\n",
    "    sum1 = sum1 + (i - mean1)**2\n",
    "var1 = sum1 / len(List1)\n",
    "print 'Manually calculated variance: ' + str(var1)"
   ]
  },
  {
   "cell_type": "code",
   "execution_count": 18,
   "metadata": {
    "collapsed": false
   },
   "outputs": [
    {
     "name": "stdout",
     "output_type": "stream",
     "text": [
      "Numpy variance: 4.56\n",
      "CPU times: user 213 µs, sys: 31 µs, total: 244 µs\n",
      "Wall time: 225 µs\n"
     ]
    }
   ],
   "source": [
    "%%time\n",
    "var2 = np.var(List1)\n",
    "print 'Numpy variance: ' + str(var2)"
   ]
  },
  {
   "cell_type": "code",
   "execution_count": 13,
   "metadata": {
    "collapsed": false
   },
   "outputs": [
    {
     "name": "stdout",
     "output_type": "stream",
     "text": [
      "Manually calculated covariance: -2.06733466934\n",
      "CPU times: user 601 µs, sys: 47 µs, total: 648 µs\n",
      "Wall time: 625 µs\n"
     ]
    }
   ],
   "source": [
    "%%time\n",
    "mean1 = 0\n",
    "mean2 = 0\n",
    "for i in List1:\n",
    "    mean1 = mean1 + i\n",
    "mean1 = mean1 / len(List1)\n",
    "for k in List2:\n",
    "    mean2 = mean2 + k\n",
    "mean2 = mean2 / len(List2)\n",
    "for i, n in enumerate(List1):\n",
    "    sum2 = sum2 + (List1[i] - mean1)*(List2[i] - mean2)\n",
    "\n",
    "covar1 = sum2 / (len(List1) - 1)\n",
    "print 'Manually calculated covariance: ' + str(covar1)\n"
   ]
  },
  {
   "cell_type": "code",
   "execution_count": 14,
   "metadata": {
    "collapsed": false
   },
   "outputs": [
    {
     "name": "stdout",
     "output_type": "stream",
     "text": [
      "Numpy Covariance: [[ 4.56913828 -2.16432866]\n",
      " [-2.16432866  2.96593186]]\n",
      "CPU times: user 1.26 ms, sys: 293 µs, total: 1.55 ms\n",
      "Wall time: 1.29 ms\n"
     ]
    }
   ],
   "source": [
    "%%time\n",
    "covar2 = np.cov(List1, List2)\n",
    "print 'Numpy Covariance: ' + str(covar2)"
   ]
  },
  {
   "cell_type": "code",
   "execution_count": null,
   "metadata": {
    "collapsed": true
   },
   "outputs": [],
   "source": []
  }
 ],
 "metadata": {
  "kernelspec": {
   "display_name": "Python 2",
   "language": "python",
   "name": "python2"
  },
  "language_info": {
   "codemirror_mode": {
    "name": "ipython",
    "version": 2
   },
   "file_extension": ".py",
   "mimetype": "text/x-python",
   "name": "python",
   "nbconvert_exporter": "python",
   "pygments_lexer": "ipython2",
   "version": "2.7.9"
  }
 },
 "nbformat": 4,
 "nbformat_minor": 0
}
